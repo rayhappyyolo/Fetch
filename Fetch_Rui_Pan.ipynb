{
  "nbformat": 4,
  "nbformat_minor": 0,
  "metadata": {
    "colab": {
      "provenance": []
    },
    "kernelspec": {
      "name": "python3",
      "display_name": "Python 3"
    },
    "language_info": {
      "name": "python"
    }
  },
  "cells": [
    {
      "cell_type": "code",
      "execution_count": 26,
      "metadata": {
        "colab": {
          "base_uri": "https://localhost:8080/"
        },
        "id": "RE1m1t6SbDXx",
        "outputId": "29101040-7768-43e4-8ca1-18e8fd216492"
      },
      "outputs": [
        {
          "output_type": "stream",
          "name": "stdout",
          "text": [
            "Drive already mounted at /content/drive; to attempt to forcibly remount, call drive.mount(\"/content/drive\", force_remount=True).\n"
          ]
        }
      ],
      "source": [
        "# Connecting the Python Code with the google drive\n",
        "from google.colab import drive\n",
        "drive.mount(\"/content/drive\")"
      ]
    },
    {
      "cell_type": "markdown",
      "source": [
        "STEP 1: Load and Preview Data"
      ],
      "metadata": {
        "id": "GkTw3FWxeB68"
      }
    },
    {
      "cell_type": "code",
      "source": [
        "import pandas as pd\n",
        "import matplotlib.pyplot as plt\n",
        "import seaborn as sns\n",
        "\n",
        "# Load the CSV files for Users, Transactions, and Products\n",
        "users = pd.read_csv('/content/drive/MyDrive/Fetch_Rui Pan/USER_TAKEHOME.csv')\n",
        "transactions = pd.read_csv('/content/drive/MyDrive/Fetch_Rui Pan/TRANSACTION_TAKEHOME.csv')\n",
        "products = pd.read_csv('/content/drive/MyDrive/Fetch_Rui Pan/PRODUCTS_TAKEHOME.csv')\n",
        "\n",
        "# Preview the first few rows of each dataset to understand the structure\n",
        "print(\"Users Table:\")\n",
        "print(users.head())\n",
        "print(\"Transactions Table:\")\n",
        "print(transactions.head())\n",
        "print(\"Products Table:\")\n",
        "print(products.head())"
      ],
      "metadata": {
        "colab": {
          "base_uri": "https://localhost:8080/"
        },
        "id": "q_NyE4z8c5AM",
        "outputId": "fbcc36b0-f01c-4f00-e274-ea57acb26be7"
      },
      "execution_count": 27,
      "outputs": [
        {
          "output_type": "stream",
          "name": "stdout",
          "text": [
            "Users Table:\n",
            "                         ID               CREATED_DATE  \\\n",
            "0  5ef3b4f17053ab141787697d  2020-06-24 20:17:54.000 Z   \n",
            "1  5ff220d383fcfc12622b96bc  2021-01-03 19:53:55.000 Z   \n",
            "2  6477950aa55bb77a0e27ee10  2023-05-31 18:42:18.000 Z   \n",
            "3  658a306e99b40f103b63ccf8  2023-12-26 01:46:22.000 Z   \n",
            "4  653cf5d6a225ea102b7ecdc2  2023-10-28 11:51:50.000 Z   \n",
            "\n",
            "                  BIRTH_DATE STATE LANGUAGE  GENDER  \n",
            "0  2000-08-11 00:00:00.000 Z    CA   es-419  female  \n",
            "1  2001-09-24 04:00:00.000 Z    PA       en  female  \n",
            "2  1994-10-28 00:00:00.000 Z    FL   es-419  female  \n",
            "3                        NaN    NC       en     NaN  \n",
            "4  1972-03-19 00:00:00.000 Z    PA       en  female  \n",
            "Transactions Table:\n",
            "                             RECEIPT_ID PURCHASE_DATE  \\\n",
            "0  0000d256-4041-4a3e-adc4-5623fb6e0c99     2024/8/21   \n",
            "1  0001455d-7a92-4a7b-a1d2-c747af1c8fd3     2024/7/20   \n",
            "2  00017e0a-7851-42fb-bfab-0baa96e23586     2024/8/18   \n",
            "3  000239aa-3478-453d-801e-66a82e39c8af     2024/6/18   \n",
            "4  00026b4c-dfe8-49dd-b026-4c2f0fd5c6a1      2024/7/4   \n",
            "\n",
            "                   SCAN_DATE STORE_NAME                   USER_ID  \\\n",
            "0  2024-08-21 14:19:06.539 Z    WALMART  63b73a7f3d310dceeabd4758   \n",
            "1  2024-07-20 09:50:24.206 Z       ALDI  62c08877baa38d1a1f6c211a   \n",
            "2  2024-08-19 15:38:56.813 Z    WALMART  60842f207ac8b7729e472020   \n",
            "3  2024-06-19 11:03:37.468 Z  FOOD LION  63fcd7cea4f8442c3386b589   \n",
            "4  2024-07-05 15:56:43.549 Z   RANDALLS  6193231ae9b3d75037b0f928   \n",
            "\n",
            "        BARCODE FINAL_QUANTITY FINAL_SALE  \n",
            "0  1.530001e+10              1             \n",
            "1           NaN           zero       1.49  \n",
            "2  7.874223e+10              1             \n",
            "3  7.834000e+11           zero       3.49  \n",
            "4  4.790050e+10              1             \n",
            "Products Table:\n",
            "          CATEGORY_1              CATEGORY_2                   CATEGORY_3  \\\n",
            "0  Health & Wellness           Sexual Health  Conductivity Gels & Lotions   \n",
            "1             Snacks           Puffed Snacks         Cheese Curls & Puffs   \n",
            "2  Health & Wellness               Hair Care        Hair Care Accessories   \n",
            "3  Health & Wellness               Oral Care                   Toothpaste   \n",
            "4  Health & Wellness  Medicines & Treatments               Essential Oils   \n",
            "\n",
            "  CATEGORY_4                                       MANUFACTURER  \\\n",
            "0        NaN                                                NaN   \n",
            "1        NaN                                                NaN   \n",
            "2        NaN                           PLACEHOLDER MANUFACTURER   \n",
            "3        NaN                                  COLGATE-PALMOLIVE   \n",
            "4        NaN  MAPLE HOLISTICS AND HONEYDEW PRODUCTS INTERCHA...   \n",
            "\n",
            "             BRAND       BARCODE  \n",
            "0              NaN  7.964940e+11  \n",
            "1              NaN  2.327801e+10  \n",
            "2          ELECSOP  4.618180e+11  \n",
            "3          COLGATE  3.500047e+10  \n",
            "4  MAPLE HOLISTICS  8.068110e+11  \n"
          ]
        }
      ]
    },
    {
      "cell_type": "markdown",
      "source": [
        "STEP 2: Check the quality of data"
      ],
      "metadata": {
        "id": "9moxdhcieQuE"
      }
    },
    {
      "cell_type": "code",
      "source": [
        "# 2. Check for missing values in each table to understand data quality issues\n",
        "print(\"Missing values in Users table:\")\n",
        "print(users.isnull().sum())\n",
        "\n",
        "print(\"Missing values in Transactions table:\")\n",
        "print(transactions.isnull().sum())\n",
        "\n",
        "print(\"Missing values in Products table:\")\n",
        "print(products.isnull().sum())"
      ],
      "metadata": {
        "colab": {
          "base_uri": "https://localhost:8080/"
        },
        "id": "T4Tnzl70dtna",
        "outputId": "dcf19fd9-d610-4cc0-c229-f21c50bbba1f"
      },
      "execution_count": 28,
      "outputs": [
        {
          "output_type": "stream",
          "name": "stdout",
          "text": [
            "Missing values in Users table:\n",
            "ID                  0\n",
            "CREATED_DATE        0\n",
            "BIRTH_DATE       3675\n",
            "STATE            4812\n",
            "LANGUAGE        30508\n",
            "GENDER           5892\n",
            "dtype: int64\n",
            "Missing values in Transactions table:\n",
            "RECEIPT_ID           0\n",
            "PURCHASE_DATE        0\n",
            "SCAN_DATE            0\n",
            "STORE_NAME           0\n",
            "USER_ID              0\n",
            "BARCODE           5762\n",
            "FINAL_QUANTITY       0\n",
            "FINAL_SALE           0\n",
            "dtype: int64\n",
            "Missing values in Products table:\n",
            "CATEGORY_1         111\n",
            "CATEGORY_2        1424\n",
            "CATEGORY_3       60566\n",
            "CATEGORY_4      778093\n",
            "MANUFACTURER    226474\n",
            "BRAND           226472\n",
            "BARCODE           4025\n",
            "dtype: int64\n"
          ]
        }
      ]
    },
    {
      "cell_type": "code",
      "source": [
        "# Check for duplicates\n",
        "print(\"Duplicate Rows:\")\n",
        "print(\"Users:\", users.duplicated().sum())\n",
        "print(\"Transactions:\", transactions.duplicated().sum())\n",
        "print(\"Products:\", products.duplicated().sum())\n"
      ],
      "metadata": {
        "colab": {
          "base_uri": "https://localhost:8080/"
        },
        "id": "18ydb2ULQ1_k",
        "outputId": "0e27acc8-57ca-4fd5-92bd-0a5312a1248e"
      },
      "execution_count": 29,
      "outputs": [
        {
          "output_type": "stream",
          "name": "stdout",
          "text": [
            "Duplicate Rows:\n",
            "Users: 0\n",
            "Transactions: 171\n",
            "Products: 372552\n"
          ]
        }
      ]
    },
    {
      "cell_type": "code",
      "source": [
        "# Explore challenging fields (e.g., encoded or unclear fields)\n",
        "print(\"Sample Users Data:\")\n",
        "print(users.head())\n"
      ],
      "metadata": {
        "colab": {
          "base_uri": "https://localhost:8080/"
        },
        "id": "6D20mSsdQb6v",
        "outputId": "5e8de893-a489-4cef-a6d2-df86329f9f4e"
      },
      "execution_count": 30,
      "outputs": [
        {
          "output_type": "stream",
          "name": "stdout",
          "text": [
            "Sample Users Data:\n",
            "                         ID               CREATED_DATE  \\\n",
            "0  5ef3b4f17053ab141787697d  2020-06-24 20:17:54.000 Z   \n",
            "1  5ff220d383fcfc12622b96bc  2021-01-03 19:53:55.000 Z   \n",
            "2  6477950aa55bb77a0e27ee10  2023-05-31 18:42:18.000 Z   \n",
            "3  658a306e99b40f103b63ccf8  2023-12-26 01:46:22.000 Z   \n",
            "4  653cf5d6a225ea102b7ecdc2  2023-10-28 11:51:50.000 Z   \n",
            "\n",
            "                  BIRTH_DATE STATE LANGUAGE  GENDER  \n",
            "0  2000-08-11 00:00:00.000 Z    CA   es-419  female  \n",
            "1  2001-09-24 04:00:00.000 Z    PA       en  female  \n",
            "2  1994-10-28 00:00:00.000 Z    FL   es-419  female  \n",
            "3                        NaN    NC       en     NaN  \n",
            "4  1972-03-19 00:00:00.000 Z    PA       en  female  \n"
          ]
        }
      ]
    },
    {
      "cell_type": "code",
      "source": [
        "# 3. Clean the Users table\n",
        "# Remove rows where BIRTH_DATE is missing\n",
        "users_cleaned = users.dropna(subset=['BIRTH_DATE'])\n",
        "\n",
        "# Replace missing STATE values with the mode using .loc[] to avoid SettingWithCopyWarning\n",
        "users_cleaned.loc[:, 'STATE'] = users_cleaned['STATE'].fillna(users_cleaned['STATE'].mode()[0])\n",
        "\n",
        "# Replace missing LANGUAGE and GENDER values with 'Unknown' using .loc[]\n",
        "users_cleaned.loc[:, 'LANGUAGE'] = users_cleaned['LANGUAGE'].fillna('Unknown')\n",
        "users_cleaned.loc[:, 'GENDER'] = users_cleaned['GENDER'].fillna('Unknown')\n",
        "\n",
        "# Ensure the dates are formatted correctly, removing milliseconds and timezones using .loc[]\n",
        "users_cleaned.loc[:, 'CREATED_DATE'] = pd.to_datetime(users_cleaned['CREATED_DATE'], errors='coerce').dt.strftime('%Y-%m-%d %H:%M:%S')\n",
        "users_cleaned.loc[:, 'BIRTH_DATE'] = pd.to_datetime(users_cleaned['BIRTH_DATE'], errors='coerce').dt.strftime('%Y-%m-%d')\n",
        "\n"
      ],
      "metadata": {
        "id": "AjwHXfZLeuR2"
      },
      "execution_count": 31,
      "outputs": []
    },
    {
      "cell_type": "code",
      "source": [
        "# 4. Clean the Transactions table\n",
        "# Remove rows where BARCODE is missing\n",
        "transactions_cleaned = transactions.dropna(subset=['BARCODE'])\n",
        "\n",
        "# Ensure the dates are formatted correctly, removing milliseconds and timezones using .loc[]\n",
        "transactions_cleaned.loc[:, 'PURCHASE_DATE'] = pd.to_datetime(transactions_cleaned['PURCHASE_DATE'], errors='coerce').dt.strftime('%Y-%m-%d %H:%M:%S')\n",
        "transactions_cleaned.loc[:, 'SCAN_DATE'] = pd.to_datetime(transactions_cleaned['SCAN_DATE'], errors='coerce').dt.strftime('%Y-%m-%d %H:%M:%S')\n",
        "\n",
        "# Fix 'FINAL_QUANTITY' column, replacing 'zero' with 0 and converting to integer using .loc[]\n",
        "transactions_cleaned.loc[:, 'FINAL_QUANTITY'] = transactions_cleaned['FINAL_QUANTITY'].replace('zero', 0)\n",
        "transactions_cleaned.loc[:, 'FINAL_QUANTITY'] = pd.to_numeric(transactions_cleaned['FINAL_QUANTITY'], errors='coerce').fillna(0).astype(int)\n",
        "\n",
        "# Fix 'FINAL_SALE' column, converting to float and filling missing values with 0.0 using .loc[]\n",
        "transactions_cleaned.loc[:, 'FINAL_SALE'] = pd.to_numeric(transactions_cleaned['FINAL_SALE'], errors='coerce').fillna(0.0)\n",
        "\n",
        "# Remove duplicates based on RECEIPT_ID in transactions\n",
        "transactions_cleaned = transactions_cleaned.drop_duplicates(subset='RECEIPT_ID', keep='first')\n"
      ],
      "metadata": {
        "id": "kwczbVuekArM"
      },
      "execution_count": 32,
      "outputs": []
    },
    {
      "cell_type": "code",
      "source": [
        "# 5. Clean the Products table\n",
        "# Fill missing category fields with 'Unknown' instead of deleting rows\n",
        "products.loc[:, 'CATEGORY_1'] = products['CATEGORY_1'].fillna('Unknown')\n",
        "products.loc[:, 'CATEGORY_2'] = products['CATEGORY_2'].fillna('Unknown')\n",
        "products.loc[:, 'CATEGORY_3'] = products['CATEGORY_3'].fillna('Unknown')\n",
        "products.loc[:, 'CATEGORY_4'] = products['CATEGORY_4'].fillna('Unknown')\n",
        "\n",
        "# Fill missing MANUFACTURER and BRAND with 'Unknown' using .loc[]\n",
        "products.loc[:, 'MANUFACTURER'] = products['MANUFACTURER'].fillna('Unknown')\n",
        "products.loc[:, 'BRAND'] = products['BRAND'].fillna('Unknown')\n",
        "\n",
        "# Only remove rows where BARCODE is missing, as it is critical for joining with transactions\n",
        "products_cleaned = products.dropna(subset=['BARCODE'])\n",
        "\n",
        "# Remove duplicate products based on BARCODE\n",
        "products_cleaned = products_cleaned.drop_duplicates(subset='BARCODE', keep='first')\n",
        "\n"
      ],
      "metadata": {
        "id": "-tLQUAsN10j2"
      },
      "execution_count": 33,
      "outputs": []
    },
    {
      "cell_type": "code",
      "source": [
        "## 6. Export cleaned data to new CSV files\n",
        "users_cleaned.to_csv('cleaned_users.csv', index=False, encoding='utf-8')\n",
        "transactions_cleaned.to_csv('cleaned_transactions.csv', index=False, encoding='utf-8')\n",
        "products_cleaned.to_csv('cleaned_products.csv', index=False, encoding='utf-8')\n",
        "\n"
      ],
      "metadata": {
        "id": "yTUQm-6B2oYV"
      },
      "execution_count": 34,
      "outputs": []
    },
    {
      "cell_type": "code",
      "source": [
        "# 7. Optional: You can inspect the cleaned datasets\n",
        "print(\"Users Cleaned:\")\n",
        "print(users_cleaned.head())\n",
        "print(\"Transactions Cleaned:\")\n",
        "print(transactions_cleaned.head())\n",
        "print(\"Products Cleaned:\")\n",
        "print(products_cleaned.head())\n"
      ],
      "metadata": {
        "colab": {
          "base_uri": "https://localhost:8080/"
        },
        "id": "ye1BtmuP2tR1",
        "outputId": "dc91d558-c163-4690-92a5-d7ead5e4a8a3"
      },
      "execution_count": 35,
      "outputs": [
        {
          "output_type": "stream",
          "name": "stdout",
          "text": [
            "Users Cleaned:\n",
            "                         ID         CREATED_DATE  BIRTH_DATE STATE LANGUAGE  \\\n",
            "0  5ef3b4f17053ab141787697d  2020-06-24 20:17:54  2000-08-11    CA   es-419   \n",
            "1  5ff220d383fcfc12622b96bc  2021-01-03 19:53:55  2001-09-24    PA       en   \n",
            "2  6477950aa55bb77a0e27ee10  2023-05-31 18:42:18  1994-10-28    FL   es-419   \n",
            "4  653cf5d6a225ea102b7ecdc2  2023-10-28 11:51:50  1972-03-19    PA       en   \n",
            "5  5fe2b6f3ad416a1265c4ab68  2020-12-23 03:18:11  1999-10-27    NY       en   \n",
            "\n",
            "   GENDER  \n",
            "0  female  \n",
            "1  female  \n",
            "2  female  \n",
            "4  female  \n",
            "5  female  \n",
            "Transactions Cleaned:\n",
            "                             RECEIPT_ID        PURCHASE_DATE  \\\n",
            "0  0000d256-4041-4a3e-adc4-5623fb6e0c99  2024-08-21 00:00:00   \n",
            "2  00017e0a-7851-42fb-bfab-0baa96e23586  2024-08-18 00:00:00   \n",
            "3  000239aa-3478-453d-801e-66a82e39c8af  2024-06-18 00:00:00   \n",
            "4  00026b4c-dfe8-49dd-b026-4c2f0fd5c6a1  2024-07-04 00:00:00   \n",
            "5  0002d8cd-1701-4cdd-a524-b70402e2dbc0  2024-06-24 00:00:00   \n",
            "\n",
            "             SCAN_DATE STORE_NAME                   USER_ID       BARCODE  \\\n",
            "0  2024-08-21 14:19:06    WALMART  63b73a7f3d310dceeabd4758  1.530001e+10   \n",
            "2  2024-08-19 15:38:56    WALMART  60842f207ac8b7729e472020  7.874223e+10   \n",
            "3  2024-06-19 11:03:37  FOOD LION  63fcd7cea4f8442c3386b589  7.834000e+11   \n",
            "4  2024-07-05 15:56:43   RANDALLS  6193231ae9b3d75037b0f928  4.790050e+10   \n",
            "5  2024-06-24 19:44:54    WALMART  5dcc6c510040a012b8e76924  6.811310e+11   \n",
            "\n",
            "  FINAL_QUANTITY FINAL_SALE  \n",
            "0              1        0.0  \n",
            "2              1        0.0  \n",
            "3              0       3.49  \n",
            "4              1        0.0  \n",
            "5              0       1.46  \n",
            "Products Cleaned:\n",
            "          CATEGORY_1              CATEGORY_2                   CATEGORY_3  \\\n",
            "0  Health & Wellness           Sexual Health  Conductivity Gels & Lotions   \n",
            "1             Snacks           Puffed Snacks         Cheese Curls & Puffs   \n",
            "2  Health & Wellness               Hair Care        Hair Care Accessories   \n",
            "3  Health & Wellness               Oral Care                   Toothpaste   \n",
            "4  Health & Wellness  Medicines & Treatments               Essential Oils   \n",
            "\n",
            "  CATEGORY_4                                       MANUFACTURER  \\\n",
            "0    Unknown                                            Unknown   \n",
            "1    Unknown                                            Unknown   \n",
            "2    Unknown                           PLACEHOLDER MANUFACTURER   \n",
            "3    Unknown                                  COLGATE-PALMOLIVE   \n",
            "4    Unknown  MAPLE HOLISTICS AND HONEYDEW PRODUCTS INTERCHA...   \n",
            "\n",
            "             BRAND       BARCODE  \n",
            "0          Unknown  7.964940e+11  \n",
            "1          Unknown  2.327801e+10  \n",
            "2          ELECSOP  4.618180e+11  \n",
            "3          COLGATE  3.500047e+10  \n",
            "4  MAPLE HOLISTICS  8.068110e+11  \n"
          ]
        }
      ]
    },
    {
      "cell_type": "markdown",
      "source": [],
      "metadata": {
        "id": "QtFcwMCI_GlO"
      }
    },
    {
      "cell_type": "code",
      "source": [
        "import pandas as pd\n",
        "\n",
        "# Read the CSV file\n",
        "\n",
        "# Drop rows where 'BARCODE' is missing\n",
        "products_cleaned = products_cleaned.dropna(subset=['BARCODE'])\n",
        "\n",
        "# Save the cleaned data to a new CSV file with UTF-8 encoding\n",
        "products_cleaned.to_csv('cleaned_products.csv', index=False,encoding='utf-8')\n",
        "\n",
        "# Save the file again as UTF-8 encoded\n",
        "products.to_csv('cleaned_products_utf8.csv', index=False, encoding='utf-8')\n"
      ],
      "metadata": {
        "id": "GADPJPMlHDDZ"
      },
      "execution_count": 36,
      "outputs": []
    },
    {
      "cell_type": "code",
      "source": [
        "# Read the UTF-8 CSV file\n",
        "df = pd.read_csv('cleaned_products_utf8.csv')\n",
        "\n",
        "# Output the number of rows in the CSV file\n",
        "print(\"Number of rows in Users CSV file:\", len(df))"
      ],
      "metadata": {
        "colab": {
          "base_uri": "https://localhost:8080/"
        },
        "id": "4O21FOvWQU3m",
        "outputId": "c5fac561-885a-4fff-9eb5-f6df60178223"
      },
      "execution_count": 37,
      "outputs": [
        {
          "output_type": "stream",
          "name": "stdout",
          "text": [
            "Number of rows in Users CSV file: 845552\n"
          ]
        }
      ]
    },
    {
      "cell_type": "code",
      "source": [
        "# Read the cleaned users CSV file\n",
        "df_users = pd.read_csv('cleaned_users.csv')\n",
        "\n",
        "# Output the number of rows in the users CSV file\n",
        "print(\"Number of rows in Users CSV file:\", len(df_users))"
      ],
      "metadata": {
        "colab": {
          "base_uri": "https://localhost:8080/"
        },
        "id": "JHmifGRsRM1O",
        "outputId": "809fac65-8858-4dd1-9c24-9f628b36a75a"
      },
      "execution_count": 38,
      "outputs": [
        {
          "output_type": "stream",
          "name": "stdout",
          "text": [
            "Number of rows in Users CSV file: 96325\n"
          ]
        }
      ]
    },
    {
      "cell_type": "code",
      "source": [
        "# Read the cleaned transactions CSV file\n",
        "df_t = pd.read_csv('cleaned_transactions.csv')\n",
        "\n",
        "# Output the number of rows in the transactions CSV file\n",
        "print(\"Number of rows in Users CSV file:\", len(df_t))"
      ],
      "metadata": {
        "colab": {
          "base_uri": "https://localhost:8080/"
        },
        "id": "1XoTWTeARyCC",
        "outputId": "374c9a20-0b3f-4f1e-c6a2-dbbe3248ed4b"
      },
      "execution_count": 39,
      "outputs": [
        {
          "output_type": "stream",
          "name": "stdout",
          "text": [
            "Number of rows in Users CSV file: 21639\n"
          ]
        }
      ]
    },
    {
      "cell_type": "code",
      "source": [
        "duplicates = transactions_cleaned[transactions_cleaned.duplicated(subset='RECEIPT_ID', keep=False)]\n",
        "print(\"Number of duplicate primary key records:\", len(duplicates))\n"
      ],
      "metadata": {
        "colab": {
          "base_uri": "https://localhost:8080/"
        },
        "id": "CwQbUtbkR16s",
        "outputId": "e6281c03-ddff-4c85-a629-e4791c093265"
      },
      "execution_count": 40,
      "outputs": [
        {
          "output_type": "stream",
          "name": "stdout",
          "text": [
            "Number of duplicate primary key records: 0\n"
          ]
        }
      ]
    },
    {
      "cell_type": "code",
      "source": [
        "# Function to clean text by removing non-ASCII characters\n",
        "\n",
        "def clean_text(text):\n",
        "    if isinstance(text, str):\n",
        "\n",
        "        return text.encode('ascii', 'ignore').decode('ascii')\n",
        "    else:\n",
        "\n",
        "        return text\n",
        "\n",
        "# Apply the text cleaning function to transactions and products datasets\n",
        "\n",
        "#users_cleaned = users_cleaned.applymap(clean_text)\n",
        "transactions_cleaned = transactions_cleaned.applymap(clean_text)\n",
        "products_cleaned = products_cleaned.applymap(clean_text)\n",
        "\n",
        "# Remove any duplicate columns (just in case) in the products dataset\n",
        "\n",
        "#users_cleaned.to_csv('cleaned_users.csv', index=False, encoding='utf-8')\n",
        "transactions_cleaned.to_csv('cleaned_transactions.csv', index=False, encoding='utf-8')\n",
        "products_cleaned.to_csv('cleaned_products.csv', index=False, encoding='utf-8')\n"
      ],
      "metadata": {
        "colab": {
          "base_uri": "https://localhost:8080/"
        },
        "id": "WoU6ZJ21q-Bl",
        "outputId": "d24db23e-8c28-4750-b772-2abcf6d430c9"
      },
      "execution_count": 41,
      "outputs": [
        {
          "output_type": "stream",
          "name": "stderr",
          "text": [
            "<ipython-input-41-8006d9e072da>:14: FutureWarning: DataFrame.applymap has been deprecated. Use DataFrame.map instead.\n",
            "  transactions_cleaned = transactions_cleaned.applymap(clean_text)\n",
            "<ipython-input-41-8006d9e072da>:15: FutureWarning: DataFrame.applymap has been deprecated. Use DataFrame.map instead.\n",
            "  products_cleaned = products_cleaned.applymap(clean_text)\n"
          ]
        }
      ]
    },
    {
      "cell_type": "code",
      "source": [
        "print(products_cleaned.head(5))\n"
      ],
      "metadata": {
        "colab": {
          "base_uri": "https://localhost:8080/"
        },
        "id": "-VO2dlPttCYq",
        "outputId": "13ef078d-cd40-44fa-f798-5d864eec6c27"
      },
      "execution_count": 42,
      "outputs": [
        {
          "output_type": "stream",
          "name": "stdout",
          "text": [
            "          CATEGORY_1              CATEGORY_2                   CATEGORY_3  \\\n",
            "0  Health & Wellness           Sexual Health  Conductivity Gels & Lotions   \n",
            "1             Snacks           Puffed Snacks         Cheese Curls & Puffs   \n",
            "2  Health & Wellness               Hair Care        Hair Care Accessories   \n",
            "3  Health & Wellness               Oral Care                   Toothpaste   \n",
            "4  Health & Wellness  Medicines & Treatments               Essential Oils   \n",
            "\n",
            "  CATEGORY_4                                       MANUFACTURER  \\\n",
            "0    Unknown                                            Unknown   \n",
            "1    Unknown                                            Unknown   \n",
            "2    Unknown                           PLACEHOLDER MANUFACTURER   \n",
            "3    Unknown                                  COLGATE-PALMOLIVE   \n",
            "4    Unknown  MAPLE HOLISTICS AND HONEYDEW PRODUCTS INTERCHA...   \n",
            "\n",
            "             BRAND       BARCODE  \n",
            "0          Unknown  7.964940e+11  \n",
            "1          Unknown  2.327801e+10  \n",
            "2          ELECSOP  4.618180e+11  \n",
            "3          COLGATE  3.500047e+10  \n",
            "4  MAPLE HOLISTICS  8.068110e+11  \n"
          ]
        }
      ]
    },
    {
      "cell_type": "code",
      "source": [
        "import pandas as pd\n",
        "\n",
        "# Read the cleaned products CSV file\n",
        "df = pd.read_csv('cleaned_products.csv')\n",
        "\n",
        "# Remove duplicate columns, if any\n",
        "df = df.loc[:, ~df.columns.duplicated()]\n",
        "\n",
        "# Save the cleaned CSV file\n",
        "df.to_csv('cleaned_file.csv', index=False)\n"
      ],
      "metadata": {
        "id": "UTuvqj5Rwduq"
      },
      "execution_count": 43,
      "outputs": []
    }
  ]
}